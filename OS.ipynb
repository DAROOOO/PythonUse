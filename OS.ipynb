{
 "cells": [
  {
   "cell_type": "code",
   "execution_count": 1,
   "metadata": {},
   "outputs": [],
   "source": [
    "import os"
   ]
  },
  {
   "cell_type": "code",
   "execution_count": 9,
   "metadata": {},
   "outputs": [
    {
     "name": "stdout",
     "output_type": "stream",
     "text": [
      "['.DS_Store', 'file1.txt', 'file2.txt', 'file3.txt', 'file4.txt']\n"
     ]
    }
   ],
   "source": [
    "# 디렉토리 파일명 받아오기\n",
    "dir_path1 = 'data/dir1/'\n",
    "\n",
    "path = sorted(os.listdir(dir_path1))\n",
    "\n",
    "print(path)"
   ]
  },
  {
   "cell_type": "code",
   "execution_count": 8,
   "metadata": {},
   "outputs": [],
   "source": [
    "# 환경변수 설정\n",
    "json_path = 'path/to/json/aa.json'\n",
    "os.environ[\"GOOGLE_APPLICATION_CREDENTIALS\"] = json_path"
   ]
  },
  {
   "cell_type": "code",
   "execution_count": 21,
   "metadata": {},
   "outputs": [
    {
     "name": "stdout",
     "output_type": "stream",
     "text": [
      "(3, 24, 24, 3)\n"
     ]
    }
   ],
   "source": [
    "import numpy as np\n",
    "\n",
    "arr1 = np.arange(1728).reshape(24,24,3)\n",
    "arr2 = np.arange(1728).reshape(24,24,3)\n",
    "arr3 = np.arange(1728).reshape(24,24,3)\n",
    "\n",
    "files = []\n",
    "\n",
    "files.append(arr1)\n",
    "files.append(arr2)\n",
    "files.append(arr3)\n",
    "\n",
    "# c = np.stack([arr1, arr2, arr2], axis=0)\n",
    "d = np.stack([f for f in files], axis=0)\n",
    "\n",
    "# print(c.shape)\n",
    "print(d.shape)"
   ]
  },
  {
   "cell_type": "code",
   "execution_count": null,
   "metadata": {},
   "outputs": [],
   "source": []
  }
 ],
 "metadata": {
  "kernelspec": {
   "display_name": "Python 3",
   "language": "python",
   "name": "python3"
  },
  "language_info": {
   "codemirror_mode": {
    "name": "ipython",
    "version": 3
   },
   "file_extension": ".py",
   "mimetype": "text/x-python",
   "name": "python",
   "nbconvert_exporter": "python",
   "pygments_lexer": "ipython3",
   "version": "3.6.8rc1"
  }
 },
 "nbformat": 4,
 "nbformat_minor": 2
}
