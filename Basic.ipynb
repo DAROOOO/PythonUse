{
 "cells": [
  {
   "cell_type": "code",
   "execution_count": 11,
   "metadata": {},
   "outputs": [],
   "source": [
    "# import math \n",
    "# math.ceil(i) : 올림, math.floor(i) : 내림, math.runc(i) : 버림"
   ]
  },
  {
   "cell_type": "code",
   "execution_count": 20,
   "metadata": {},
   "outputs": [
    {
     "name": "stdout",
     "output_type": "stream",
     "text": [
      "[1, 3, 2, 4, 5, 7]\n",
      "[2, 3, 7, 4, 5]\n",
      "[2, 3, 7, 4, 5, 20]\n"
     ]
    }
   ],
   "source": [
    "# Heap\n",
    "import heapq as hq\n",
    "a = [4,5,2,3,1,7]\n",
    "# lst to heap \n",
    "hq.heapify(a)\n",
    "print(a)\n",
    "# heap pop\n",
    "hq.heappop(a)\n",
    "print(a)\n",
    "# heap push\n",
    "hq.heappush(a,20)\n",
    "print(a)"
   ]
  },
  {
   "cell_type": "markdown",
   "metadata": {},
   "source": [
    "### List"
   ]
  },
  {
   "cell_type": "code",
   "execution_count": 2,
   "metadata": {},
   "outputs": [
    {
     "name": "stdout",
     "output_type": "stream",
     "text": [
      "[11, 22, 33, 55, 66]\n"
     ]
    }
   ],
   "source": [
    "# 삭제\n",
    "a = [11,22,33,44,55,66]\n",
    "del a[3]\n",
    "print(a)"
   ]
  },
  {
   "cell_type": "code",
   "execution_count": 3,
   "metadata": {},
   "outputs": [
    {
     "name": "stdout",
     "output_type": "stream",
     "text": [
      "[11, 22, 33, 66]\n"
     ]
    }
   ],
   "source": [
    "a.remove(55)\n",
    "print(a)"
   ]
  },
  {
   "cell_type": "code",
   "execution_count": 1,
   "metadata": {},
   "outputs": [
    {
     "data": {
      "text/plain": [
       "[1, 4, 9, 16]"
      ]
     },
     "execution_count": 1,
     "metadata": {},
     "output_type": "execute_result"
    }
   ],
   "source": [
    "# map 함수 = 인자1: 함수 / 인자2: list\n",
    "list(map(lambda x: x*x, [1,2,3,4]))"
   ]
  },
  {
   "cell_type": "code",
   "execution_count": 16,
   "metadata": {},
   "outputs": [
    {
     "data": {
      "text/plain": [
       "[10, 20, 30, 40, 50]"
      ]
     },
     "execution_count": 16,
     "metadata": {},
     "output_type": "execute_result"
    }
   ],
   "source": [
    "# 2차원 list에서 첫번째 원소만 가져와서 리스트로 만들기\n",
    "a = [[10,1],[20,2],[30,3],[40,4],[50,5]]\n",
    "list(map(lambda x: x[0] ,a))"
   ]
  },
  {
   "cell_type": "code",
   "execution_count": 17,
   "metadata": {},
   "outputs": [
    {
     "name": "stdout",
     "output_type": "stream",
     "text": [
      "3\n"
     ]
    }
   ],
   "source": [
    "# 동일 원소값 갯수 세기\n",
    "a = [10,20,10,10,20]\n",
    "print(a.count(10))"
   ]
  },
  {
   "cell_type": "code",
   "execution_count": 4,
   "metadata": {},
   "outputs": [
    {
     "name": "stdout",
     "output_type": "stream",
     "text": [
      "1a\n",
      "2b\n",
      "3c\n",
      "4d\n",
      "5e\n"
     ]
    }
   ],
   "source": [
    "lst1 = [1,2,3,4,5]\n",
    "lst2 = ['a','b','c','d','e']\n",
    "# zip : 맨앞의 값들 하나씩 뽑아서 return\n",
    "# 자릿수가 맞지 않을경우 break\n",
    "for i, c in zip(lst1,lst2):\n",
    "    print(str(i)+c)"
   ]
  },
  {
   "cell_type": "markdown",
   "metadata": {},
   "source": [
    "### Dictionary\n",
    "\n",
    "keys : values"
   ]
  },
  {
   "cell_type": "code",
   "execution_count": 18,
   "metadata": {},
   "outputs": [
    {
     "name": "stdout",
     "output_type": "stream",
     "text": [
      "{0: '영'}\n"
     ]
    }
   ],
   "source": [
    "# key는 중복되면안됨.\n",
    "d = dict()\n",
    "d[0] = '영'\n",
    "print(d)"
   ]
  },
  {
   "cell_type": "code",
   "execution_count": 19,
   "metadata": {},
   "outputs": [
    {
     "name": "stdout",
     "output_type": "stream",
     "text": [
      "{0: '영', 1: '일', 100: '백'}\n"
     ]
    }
   ],
   "source": [
    "d[1] = '일'\n",
    "d[100] = '백'\n",
    "print(d)"
   ]
  },
  {
   "cell_type": "code",
   "execution_count": 20,
   "metadata": {},
   "outputs": [
    {
     "name": "stdout",
     "output_type": "stream",
     "text": [
      "{1: '일', 100: '백'}\n",
      "dict_keys([1, 100])\n",
      "dict_values(['일', '백'])\n"
     ]
    }
   ],
   "source": [
    "# 삭제\n",
    "del d[0]\n",
    "print(d)\n",
    "print(d.keys())\n",
    "print(d.values())"
   ]
  },
  {
   "cell_type": "code",
   "execution_count": 21,
   "metadata": {},
   "outputs": [
    {
     "name": "stdout",
     "output_type": "stream",
     "text": [
      "[1, 100]\n",
      "['일', '백']\n",
      "['1일', '100백']\n",
      "{}\n"
     ]
    }
   ],
   "source": [
    "# key값 뽑기\n",
    "print([k for k in d.keys()])\n",
    "# value값 뽑기\n",
    "print([v for v in d.values()])\n",
    "# key, value 동시에 뽑기\n",
    "print([str(k)+v for k,v in d.items()])\n",
    "# 초기화\n",
    "d.clear()\n",
    "print(d)"
   ]
  },
  {
   "cell_type": "code",
   "execution_count": 4,
   "metadata": {},
   "outputs": [
    {
     "name": "stdout",
     "output_type": "stream",
     "text": [
      "seoul\n"
     ]
    }
   ],
   "source": [
    "a = {'name':'pey', 'phone':'0119993323', 'birth': '1118'}\n",
    "# 키값이 없을때도 디폴트값을 설정해서 가져오고싶다?\n",
    "# get의 두번째 인자가 디폴트값\n",
    "print(a.get('adress','seoul'))"
   ]
  },
  {
   "cell_type": "code",
   "execution_count": 6,
   "metadata": {},
   "outputs": [
    {
     "name": "stdout",
     "output_type": "stream",
     "text": [
      "name은 딕셔너리에 키값으로 있다.\n",
      "0119993323은 딕셔너리에 키값으로 있다.\n"
     ]
    }
   ],
   "source": [
    "if 'name' in a.keys():\n",
    "    print('name은 딕셔너리에 키값으로 있다.')\n",
    "else :\n",
    "    print('name은 딕셔너리에 키값으로 없다.')\n",
    "\n",
    "if '0119993323' in a.values():\n",
    "    print('0119993323은 딕셔너리에 키값으로 있다.')\n",
    "else:\n",
    "    print('0119993323은 딕셔너리에 키값으로 없다.')"
   ]
  },
  {
   "cell_type": "code",
   "execution_count": 9,
   "metadata": {},
   "outputs": [
    {
     "name": "stdout",
     "output_type": "stream",
     "text": [
      "{'A': -3981568487457871265, 'B': 658069298892570466}\n"
     ]
    }
   ],
   "source": [
    "# 해쉬값으로 dictionary 만들기\n",
    "lst = ['A','B']\n",
    "dic = dict()\n",
    "for s in lst:\n",
    "    dic[s] = hash(s)\n",
    "print(dic)"
   ]
  },
  {
   "cell_type": "code",
   "execution_count": 12,
   "metadata": {},
   "outputs": [
    {
     "name": "stdout",
     "output_type": "stream",
     "text": [
      "[('A', 3), ('B', 2), ('C', 1)]\n",
      "[('C', 1), ('B', 2), ('A', 3)]\n",
      "[('A', 3), ('B', 2), ('C', 1)]\n"
     ]
    }
   ],
   "source": [
    "dic = {'A':3,'C':1,'B':2}\n",
    "# key값으로 정렬\n",
    "sdict = sorted(dic.items())\n",
    "print(sdict)\n",
    "# value값으로 정렬\n",
    "sdict = sorted(dic.items(), key=lambda x:x[1])\n",
    "print(sdict)\n",
    "sdict = sorted(dic.items(), key=lambda x:x[1],reverse= True)\n",
    "print(sdict)"
   ]
  },
  {
   "cell_type": "markdown",
   "metadata": {},
   "source": [
    "### Closure\n",
    "\n",
    "함수가 함수를 리턴해서 하나의 함수로 여러 함수를 만들수 있다."
   ]
  },
  {
   "cell_type": "code",
   "execution_count": 2,
   "metadata": {},
   "outputs": [
    {
     "name": "stdout",
     "output_type": "stream",
     "text": [
      "message : me\n",
      "message : you\n"
     ]
    }
   ],
   "source": [
    "def message(s):\n",
    "    msg = s\n",
    "    def printstr():\n",
    "        print(f'message : {s}')\n",
    "    # 함수를 실행하는것은(), ()없이 변수로써 사용가능함\n",
    "    return printstr\n",
    "    \n",
    "print_me = message('me')\n",
    "print_me()\n",
    "print_you = message('you')\n",
    "print_you()"
   ]
  },
  {
   "cell_type": "markdown",
   "metadata": {},
   "source": [
    "### 데코레이터\n",
    "\n",
    "이미 만들어져있는 함수를 수정하지 않아도 해당 함수에 여러가지 기능을 추가할 수 있다."
   ]
  },
  {
   "cell_type": "code",
   "execution_count": 4,
   "metadata": {},
   "outputs": [
    {
     "name": "stdout",
     "output_type": "stream",
     "text": [
      "display 함수를 실행합니다.\n",
      "display 함수가 실행됐습니다.\n"
     ]
    }
   ],
   "source": [
    "# 해당 함수는 인자로 받은 함수를 리턴한다. (first class function)\n",
    "# 즉 특정 함수가 이 함수를 거쳐서 호출된다.\n",
    "def decorator_function(original_function):\n",
    "    def wrapper_function():\n",
    "        print('display 함수를 실행합니다.')\n",
    "        return original_function()\n",
    "    return wrapper_function\n",
    "\n",
    "def display():\n",
    "    print('display 함수가 실행됐습니다.')\n",
    "\n",
    "decorated_display = decorator_function(display)\n",
    "decorated_display()"
   ]
  },
  {
   "cell_type": "code",
   "execution_count": 5,
   "metadata": {},
   "outputs": [
    {
     "name": "stdout",
     "output_type": "stream",
     "text": [
      "display 함수를 실행합니다.\n",
      "display 함수가 실행됐습니다.\n"
     ]
    }
   ],
   "source": [
    "def decorator_function(original_function):\n",
    "    def wrapper_function():\n",
    "        print('display 함수를 실행합니다.')\n",
    "        return original_function()\n",
    "    return wrapper_function\n",
    "\n",
    "# 위의 코드를 간단하게 고치는 구문\n",
    "@decorator_function\n",
    "def display():\n",
    "    print('display 함수가 실행됐습니다.')\n",
    "\n",
    "display()"
   ]
  },
  {
   "cell_type": "code",
   "execution_count": 6,
   "metadata": {},
   "outputs": [
    {
     "name": "stdout",
     "output_type": "stream",
     "text": [
      "display 함수를 실행합니다.\n",
      "display 함수가 실행됐습니다. name age\n"
     ]
    }
   ],
   "source": [
    "# 인자를 포함하는 구문\n",
    "def decorator_function(original_function):\n",
    "    # ** *args 중요 **\n",
    "    def wrapper_function(*args):\n",
    "        print('display 함수를 실행합니다.')\n",
    "        # ** *args 중요 **\n",
    "        return original_function(*args)\n",
    "    return wrapper_function\n",
    "\n",
    "# 위의 코드를 간단하게 고치는 구문\n",
    "@decorator_function\n",
    "def display_name(name,age):\n",
    "    print(f'display 함수가 실행됐습니다. {name} {age}')\n",
    "\n",
    "display_name('name','age')"
   ]
  },
  {
   "cell_type": "code",
   "execution_count": 7,
   "metadata": {},
   "outputs": [
    {
     "name": "stdout",
     "output_type": "stream",
     "text": [
      "display 함수를 실행합니다.\n",
      "display 함수가 실행됐습니다.\n",
      "display 함수를 실행합니다.\n",
      "display_info(name, age) 함수가 실행됐습니다.\n"
     ]
    }
   ],
   "source": [
    "# 클래스를 이용한 데코레이터\n",
    "class DecoratorClass:\n",
    "    def __init__(self, original_function):\n",
    "        self.original_function = original_function\n",
    "\n",
    "    def __call__(self, *args):\n",
    "        print('display 함수를 실행합니다.')\n",
    "        return self.original_function(*args)\n",
    "\n",
    "@DecoratorClass\n",
    "def display():\n",
    "    print('display 함수가 실행됐습니다.')\n",
    "\n",
    "@DecoratorClass\n",
    "def display_info(name, age):\n",
    "    print(f'display_info({name}, {age}) 함수가 실행됐습니다.')\n",
    "\n",
    "display()\n",
    "display_info('name', 'age')"
   ]
  },
  {
   "cell_type": "markdown",
   "metadata": {},
   "source": [
    "### 재귀함수"
   ]
  },
  {
   "cell_type": "code",
   "execution_count": 8,
   "metadata": {},
   "outputs": [
    {
     "data": {
      "text/plain": [
       "18"
      ]
     },
     "execution_count": 8,
     "metadata": {},
     "output_type": "execute_result"
    }
   ],
   "source": [
    "def a(n):\n",
    "    if n == 1:\n",
    "        return 0\n",
    "    return a(n-1) + 2\n",
    "a(10)"
   ]
  },
  {
   "cell_type": "markdown",
   "metadata": {},
   "source": [
    "## Class"
   ]
  },
  {
   "cell_type": "code",
   "execution_count": 9,
   "metadata": {},
   "outputs": [],
   "source": [
    "class Calculator:\n",
    "    # 생성자\n",
    "    def __init__(self,num):\n",
    "        self.value = num\n",
    "    # 메소드\n",
    "    # self의 의미 : 메소드를 사용할때 자기자신의 메소드를 사용하겠다는 의미\n",
    "    def Add(self, num):\n",
    "        self.value += num\n",
    "        return self.value\n",
    "    \n",
    "    def Minus(self, num):\n",
    "        self.value -= num"
   ]
  },
  {
   "cell_type": "code",
   "execution_count": 10,
   "metadata": {},
   "outputs": [
    {
     "name": "stdout",
     "output_type": "stream",
     "text": [
      "101\n",
      "200\n",
      "300\n"
     ]
    }
   ],
   "source": [
    "# 초깃값이 1인 객체, 초깃값이 100인객체 생성\n",
    "Cal_1 = Calculator(1)\n",
    "Cal_100 = Calculator(100)\n",
    "\n",
    "print(Cal_1.Add(100))\n",
    "# Cal_100.Add(100) == Calculator.Add(Cal_100,100)\n",
    "print(Cal_100.Add(100))\n",
    "print(Calculator.Add(Cal_100,100))\n",
    "# 클래스로 바로 instance 객체를 만들수 있다?"
   ]
  },
  {
   "cell_type": "markdown",
   "metadata": {},
   "source": [
    "### Inheritance(상속)\n",
    "> B라는 클래스를 만들때, 다른 A라는 클래스의 기능을 가져오는것 (override가능)"
   ]
  },
  {
   "cell_type": "code",
   "execution_count": 11,
   "metadata": {},
   "outputs": [],
   "source": [
    "# Class를 선언할때 상속할 Class를 인자로 넣어준다\n",
    "# 곱하기 기능이 추가된 Class 선언\n",
    "class Cal_M(Calculator):\n",
    "    def multi(self,num):\n",
    "        self.value *= num\n",
    "        return self.value"
   ]
  },
  {
   "cell_type": "code",
   "execution_count": 12,
   "metadata": {},
   "outputs": [
    {
     "name": "stdout",
     "output_type": "stream",
     "text": [
      "200\n"
     ]
    }
   ],
   "source": [
    "# 초깃값이 100인 객체 생성\n",
    "Cal_M_100 = Cal_M(100)\n",
    "print(Cal_M_100.multi(2))"
   ]
  },
  {
   "cell_type": "markdown",
   "metadata": {},
   "source": [
    "## 정규 표현식\n",
    "> 복잡한 문자열을 처리할 때 사용하는 기법\n",
    "\n",
    "***메타문자 종류 : . ^ $ * + ? { } [ ] \\ | ( )***  \n",
    "\n",
    "***문자열 검색 : match search findall finditer***\n",
    "\n",
    "https://wikidocs.net/4308"
   ]
  },
  {
   "cell_type": "code",
   "execution_count": 13,
   "metadata": {},
   "outputs": [
    {
     "name": "stdout",
     "output_type": "stream",
     "text": [
      "SHIN 900101-*******\n",
      "SHIN 900101-1122233\n",
      "SHIN 1122233-\n",
      "SHIN 1122233-*******\n"
     ]
    }
   ],
   "source": [
    "## 예제 : 주민등록번호 처리 ##\n",
    "import re\n",
    "data = 'SHIN 900101-1122233'\n",
    "# 주민등록번호의 형식인  '숫자6개-숫자7개'의 형식의 문자열을 찾는 p를 선언.\n",
    "# ( x ) = 그룹을 지정해주면 그룹 번호로 호출할수 있음.\n",
    "p = re.compile(\"(\\d{6})[-](\\d{7})\")\n",
    "# p를 이용하여 찾은 문자열을 특정 형식으로 변환\n",
    "print(p.sub(\"\\g<1>-*******\",data))\n",
    "print(p.sub(\"\\g<1>-\\g<2>\",data))\n",
    "print(p.sub(\"\\g<2>-\",data))\n",
    "print(p.sub(\"\\g<2>-*******\",data))"
   ]
  },
  {
   "cell_type": "code",
   "execution_count": 14,
   "metadata": {},
   "outputs": [
    {
     "name": "stdout",
     "output_type": "stream",
     "text": [
      "['google.com']\n"
     ]
    }
   ],
   "source": [
    "## 예제 : 주소 뒷부분만 떼오기 ##\n",
    "data = 'http://google.com'\n",
    "# http://를 찾고, 그것을 제외한 뒤의 모든 문자열을 찾기 (. = 모든문자 + = 반복)\n",
    "p = re.compile('[^http://].+')\n",
    "g = p.findall(data)\n",
    "print(g)"
   ]
  },
  {
   "cell_type": "code",
   "execution_count": 15,
   "metadata": {},
   "outputs": [
    {
     "name": "stdout",
     "output_type": "stream",
     "text": [
      "<_sre.SRE_Match object; span=(0, 9), match='first.jpg'>\n",
      "None\n"
     ]
    }
   ],
   "source": [
    "## 예제 : 파일 확장자 조건적 매칭 ##\n",
    "data1 = 'first.jpg'\n",
    "data2 = \"second.bat\"\n",
    "# bat을 제외한 파일들 매칭 (?!bat$)\n",
    "p = re.compile('.*[.](?!bat$).*$')\n",
    "g = p.search(data1)\n",
    "print(g)\n",
    "g = p.search(data2)\n",
    "print(g)"
   ]
  },
  {
   "cell_type": "markdown",
   "metadata": {},
   "source": [
    "## Comprehension"
   ]
  },
  {
   "cell_type": "code",
   "execution_count": 16,
   "metadata": {},
   "outputs": [
    {
     "name": "stdout",
     "output_type": "stream",
     "text": [
      "[0, 1, 2, 3, 4, 5, 6, 7, 8, 9]\n"
     ]
    }
   ],
   "source": [
    "# for문\n",
    "lstfor1 = [i for i in range(10)]\n",
    "print(lstfor1)"
   ]
  },
  {
   "cell_type": "code",
   "execution_count": 17,
   "metadata": {},
   "outputs": [
    {
     "name": "stdout",
     "output_type": "stream",
     "text": [
      "[0, 1, 2, 1, 2, 3, 2, 3, 4]\n"
     ]
    }
   ],
   "source": [
    "# 2중 for문\n",
    "lstfor2 = [i+j for i in range(3) for j in range(3)]\n",
    "print(lstfor2)"
   ]
  },
  {
   "cell_type": "code",
   "execution_count": 18,
   "metadata": {},
   "outputs": [
    {
     "name": "stdout",
     "output_type": "stream",
     "text": [
      "[0, 2, 4, 6, 8]\n"
     ]
    }
   ],
   "source": [
    "# if문\n",
    "lstif = [i for i in range(10) if i%2==0]\n",
    "print(lstif)"
   ]
  },
  {
   "cell_type": "code",
   "execution_count": 19,
   "metadata": {},
   "outputs": [
    {
     "name": "stdout",
     "output_type": "stream",
     "text": [
      "[0, 6]\n"
     ]
    }
   ],
   "source": [
    "# 2개의 if문\n",
    "lstif2 = [i for i in range(10) if i%2==0 if i%3==0]\n",
    "print(lstif2)"
   ]
  },
  {
   "cell_type": "code",
   "execution_count": 20,
   "metadata": {},
   "outputs": [
    {
     "name": "stdout",
     "output_type": "stream",
     "text": [
      "['zero', '홀수', '짝수', '홀수', '짝수', '홀수', '짝수', '홀수', '짝수', '홀수']\n"
     ]
    }
   ],
   "source": [
    "# elif\n",
    "lst_elif = ['zero' if i==0 else '짝수' if i%2==0 else '홀수' for i in range(10)]\n",
    "print(lst_elif)"
   ]
  },
  {
   "cell_type": "code",
   "execution_count": 21,
   "metadata": {},
   "outputs": [
    {
     "name": "stdout",
     "output_type": "stream",
     "text": [
      "{'A': 0, 'B': 1, 'C': 2, 'D': 3, 'E': 4}\n"
     ]
    }
   ],
   "source": [
    "# 딕셔너리\n",
    "lst = ['A','B','C','D','E']\n",
    "# alphabet = key / i = value\n",
    "dic = {alphabet : i for i,alphabet in enumerate(lst)}\n",
    "print(dic)"
   ]
  },
  {
   "cell_type": "code",
   "execution_count": 22,
   "metadata": {},
   "outputs": [
    {
     "name": "stdout",
     "output_type": "stream",
     "text": [
      "{'철수': 50, '영희': 80, '길동': 90, '순희': 60}\n"
     ]
    }
   ],
   "source": [
    "# 딕셔너리 + 조건문\n",
    "scores = {'철수': 50, '영희': 80, '길동': 90, '순희': 60, '전학생': 100}\n",
    "# 전학생의 점수만 제거\n",
    "scores = { name: score for name, score in scores.items() if name != '전학생'}\n",
    "print(scores)"
   ]
  },
  {
   "cell_type": "code",
   "execution_count": 23,
   "metadata": {},
   "outputs": [
    {
     "name": "stdout",
     "output_type": "stream",
     "text": [
      "{'철수': 'No-PASS', '영희': 'PASS', '길동': 'PASS', '순희': 'No-PASS'}\n"
     ]
    }
   ],
   "source": [
    "grades = { name: 'PASS' if value > 70 else 'No-PASS' for name, value in scores.items()}\n",
    "print(grades)"
   ]
  },
  {
   "cell_type": "markdown",
   "metadata": {},
   "source": [
    "## 제네레이터"
   ]
  },
  {
   "cell_type": "code",
   "execution_count": 1,
   "metadata": {},
   "outputs": [
    {
     "name": "stdout",
     "output_type": "stream",
     "text": [
      "$100\n"
     ]
    },
    {
     "ename": "StopIteration",
     "evalue": "",
     "output_type": "error",
     "traceback": [
      "\u001b[0;31m---------------------------------------------------------------------------\u001b[0m",
      "\u001b[0;31mStopIteration\u001b[0m                             Traceback (most recent call last)",
      "\u001b[0;32m<ipython-input-1-297c3a4390c9>\u001b[0m in \u001b[0;36m<module>\u001b[0;34m\u001b[0m\n\u001b[1;32m     11\u001b[0m \u001b[0;34m\u001b[0m\u001b[0m\n\u001b[1;32m     12\u001b[0m \u001b[0mbank\u001b[0m\u001b[0;34m.\u001b[0m\u001b[0mcrisis\u001b[0m \u001b[0;34m=\u001b[0m \u001b[0;32mTrue\u001b[0m \u001b[0;31m# 경제 위기로 출금이 불가능 합니다.\u001b[0m\u001b[0;34m\u001b[0m\u001b[0;34m\u001b[0m\u001b[0m\n\u001b[0;32m---> 13\u001b[0;31m \u001b[0mprint\u001b[0m\u001b[0;34m(\u001b[0m\u001b[0mnext\u001b[0m\u001b[0;34m(\u001b[0m\u001b[0matm\u001b[0m\u001b[0;34m)\u001b[0m\u001b[0;34m)\u001b[0m \u001b[0;31m# 출금\u001b[0m\u001b[0;34m\u001b[0m\u001b[0;34m\u001b[0m\u001b[0m\n\u001b[0m",
      "\u001b[0;31mStopIteration\u001b[0m: "
     ]
    }
   ],
   "source": [
    "## generater 예시\n",
    "class Bank(): # 은행을 만들고 ATM도 만듭시다.\n",
    "    crisis = False\n",
    "    def create_atm(self):\n",
    "        while not self.crisis:\n",
    "            yield \"$100\"\n",
    "\n",
    "bank = Bank()\n",
    "atm = bank.create_atm()\n",
    "print(next(atm)) # 출금\n",
    "\n",
    "bank.crisis = True # 경제 위기로 출금이 불가능 합니다.\n",
    "print(next(atm)) # 출금"
   ]
  },
  {
   "cell_type": "markdown",
   "metadata": {},
   "source": [
    "### 연습문제 풀이"
   ]
  },
  {
   "cell_type": "code",
   "execution_count": 24,
   "metadata": {},
   "outputs": [
    {
     "data": {
      "text/plain": [
       "'a#b#c#d'"
      ]
     },
     "execution_count": 24,
     "metadata": {},
     "output_type": "execute_result"
    }
   ],
   "source": [
    "lst = 'a:b:c:d'\n",
    "a = lst.split(':')\n",
    "b = '#'.join(a)\n",
    "b"
   ]
  },
  {
   "cell_type": "code",
   "execution_count": 25,
   "metadata": {},
   "outputs": [
    {
     "name": "stdout",
     "output_type": "stream",
     "text": [
      "70\n"
     ]
    }
   ],
   "source": [
    "a = {'A':90, 'B':80}\n",
    "a['C'] = 70\n",
    "print(a['C'])"
   ]
  },
  {
   "cell_type": "code",
   "execution_count": 26,
   "metadata": {},
   "outputs": [],
   "source": [
    "A = [20, 55, 67, 82, 45, 33, 90, 87, 100, 25]"
   ]
  },
  {
   "cell_type": "code",
   "execution_count": 27,
   "metadata": {},
   "outputs": [
    {
     "name": "stdout",
     "output_type": "stream",
     "text": [
      "0\n",
      "1\n",
      "1\n",
      "2\n",
      "3\n",
      "5\n",
      "8\n",
      "13\n",
      "21\n",
      "34\n"
     ]
    }
   ],
   "source": [
    "def pibo(num):\n",
    "    n1 = 0\n",
    "    n2 = 1\n",
    "    temp = 0\n",
    "    for n in range(num):\n",
    "        print(n1)\n",
    "        temp = n2\n",
    "        n2 = n1 + n2\n",
    "        n1 = temp       \n",
    "pibo(10)"
   ]
  },
  {
   "cell_type": "code",
   "execution_count": 28,
   "metadata": {},
   "outputs": [
    {
     "name": "stdout",
     "output_type": "stream",
     "text": [
      "5\n",
      "5\n"
     ]
    }
   ],
   "source": [
    "a = input()\n",
    "lst = a.split(',')\n",
    "# python 내장함수 map으로 int함수를 list대상으로 실행\n",
    "lst = list(map(int,lst))\n",
    "print(sum(lst))"
   ]
  },
  {
   "cell_type": "code",
   "execution_count": 29,
   "metadata": {},
   "outputs": [
    {
     "name": "stdout",
     "output_type": "stream",
     "text": [
      "5\n",
      "[5, 10, 15, 20, 25, 30, 35, 40, 45]\n"
     ]
    }
   ],
   "source": [
    "# 한줄 구구단\n",
    "num = input()\n",
    "print([int(num)*i for i in range(1,10)])"
   ]
  },
  {
   "cell_type": "code",
   "execution_count": 30,
   "metadata": {},
   "outputs": [
    {
     "name": "stdout",
     "output_type": "stream",
     "text": [
      "454*67-9-3\n"
     ]
    }
   ],
   "source": [
    "# 짝수연속 * 홀수연속 -\n",
    "lst = '4546793'\n",
    "lst_int = list(map(int,lst))\n",
    "result = []\n",
    "\n",
    "def DashInsert(s):\n",
    "    for i in range(len(s)):\n",
    "        result.append(str(lst_int[i]))\n",
    "        if i < len(s)-1:\n",
    "            n1 = s[i]\n",
    "            n2 = s[i+1]\n",
    "            if n1%2==0 and n2%2==0:         \n",
    "                result.append('*')            \n",
    "            elif n1%2==1 and n2%2==1:       \n",
    "                result.append('-')\n",
    "    print(\"\".join(result))\n",
    "\n",
    "DashInsert(lst_int)"
   ]
  },
  {
   "cell_type": "code",
   "execution_count": 31,
   "metadata": {},
   "outputs": [
    {
     "name": "stdout",
     "output_type": "stream",
     "text": [
      "HE SLEEPS EARLY \n"
     ]
    }
   ],
   "source": [
    "dic = {\n",
    "    '.-':'A','-...':'B','-.-.':'C','-..':'D','.':'E','..-.':'F',\n",
    "    '--.':'G','....':'H','..':'I','.---':'J','-.-':'K','.-..':'L',\n",
    "    '--':'M','-.':'N','---':'O','.--.':'P','--.-':'Q','.-.':'R',\n",
    "    '...':'S','-':'T','..-':'U','...-':'V','.--':'W','-..-':'X',\n",
    "    '-.--':'Y','--..':'Z'\n",
    "}\n",
    "\n",
    "def morse(src):\n",
    "    result = []\n",
    "    for word in src.split(\"  \"):\n",
    "        for char in word.split(\" \"):\n",
    "            result.append(dic[char])\n",
    "        result.append(\" \")\n",
    "    return \"\".join(result)\n",
    "\n",
    "\n",
    "print(morse('.... .  ... .-.. . . .--. ...  . .- .-. .-.. -.--'))"
   ]
  },
  {
   "cell_type": "code",
   "execution_count": null,
   "metadata": {},
   "outputs": [],
   "source": []
  }
 ],
 "metadata": {
  "kernelspec": {
   "display_name": "Python 3",
   "language": "python",
   "name": "python3"
  },
  "language_info": {
   "codemirror_mode": {
    "name": "ipython",
    "version": 3
   },
   "file_extension": ".py",
   "mimetype": "text/x-python",
   "name": "python",
   "nbconvert_exporter": "python",
   "pygments_lexer": "ipython3",
   "version": "3.6.8rc1"
  }
 },
 "nbformat": 4,
 "nbformat_minor": 2
}
